{
 "cells": [
  {
   "cell_type": "code",
   "execution_count": 1,
   "metadata": {},
   "outputs": [],
   "source": [
    "from urllib.request import urlretrieve\n",
    "import os"
   ]
  },
  {
   "cell_type": "code",
   "execution_count": 2,
   "metadata": {},
   "outputs": [],
   "source": [
    "web = os.path.join('https://www.w3.org/','TR/PNG/iso_8859-1.txt')\n",
    "dc = os.path.join('./Data')\n",
    "file = os.path.join('./Data/','Homework.txt')\n",
    "hwk = 'Homework.txt'"
   ]
  },
  {
   "cell_type": "code",
   "execution_count": 3,
   "metadata": {},
   "outputs": [],
   "source": [
    "try: \n",
    "    os.makedirs(dc,exist_ok = True) \n",
    "    urlretrieve(web,file) \n",
    "except: \n",
    "       print('發生錯誤!')"
   ]
  },
  {
   "cell_type": "code",
   "execution_count": 4,
   "metadata": {},
   "outputs": [
    {
     "name": "stdout",
     "output_type": "stream",
     "text": [
      "Data資料夾有Homework.txt\n"
     ]
    }
   ],
   "source": [
    "fh = open(file,mode = 'r')\n",
    "fh.read()\n",
    "\n",
    "if hwk in file:\n",
    "    print('Data資料夾有Homework.txt')\n",
    "\n",
    "else: \n",
    "    print('Data資料夾無Homework.txt')\n",
    "    \n",
    "fh.close()"
   ]
  },
  {
   "cell_type": "code",
   "execution_count": 5,
   "metadata": {},
   "outputs": [],
   "source": [
    "s = 'Hello World'\n",
    "with open(file,'w') as fh:\n",
    "    fh.write(s)\n",
    "try:\n",
    "    with open(file,'r') as fh:\n",
    "        fh.read()\n",
    "except EnvironmentError:\n",
    "    pass"
   ]
  },
  {
   "cell_type": "code",
   "execution_count": 9,
   "metadata": {},
   "outputs": [
    {
     "name": "stdout",
     "output_type": "stream",
     "text": [
      "Homework.txt符合Hello World字數\n"
     ]
    }
   ],
   "source": [
    "if len('Hello World') == len(s):\n",
    "    print('Homework.txt符合Hello World字數')\n",
    "else:\n",
    "    print('Homework.txt不符合Hello World字數')"
   ]
  },
  {
   "cell_type": "code",
   "execution_count": 25,
   "metadata": {},
   "outputs": [
    {
     "name": "stdout",
     "output_type": "stream",
     "text": [
      "簡答題\n",
      "1.檔案、API、爬蟲三種取得資料方式有什麼不同？ \n",
      "檔案與API為資料擁有者主動公開資料；爬蟲是被動公開資料，取得資料的方式應先以檔案與API優先，爬蟲為最後採用的方法。\n"
     ]
    }
   ],
   "source": [
    "print('簡答題\\n1.檔案、API、爬蟲三種取得資料方式有什麼不同？',\n",
    "      '\\n檔案與API為資料擁有者主動公開資料；爬蟲是被動公開資料，取得資料的方式應先以檔案與API優先，爬蟲為最後採用的方法。')"
   ]
  },
  {
   "cell_type": "code",
   "execution_count": null,
   "metadata": {},
   "outputs": [],
   "source": []
  }
 ],
 "metadata": {
  "kernelspec": {
   "display_name": "Python 3",
   "language": "python",
   "name": "python3"
  },
  "language_info": {
   "codemirror_mode": {
    "name": "ipython",
    "version": 3
   },
   "file_extension": ".py",
   "mimetype": "text/x-python",
   "name": "python",
   "nbconvert_exporter": "python",
   "pygments_lexer": "ipython3",
   "version": "3.7.3"
  }
 },
 "nbformat": 4,
 "nbformat_minor": 2
}
